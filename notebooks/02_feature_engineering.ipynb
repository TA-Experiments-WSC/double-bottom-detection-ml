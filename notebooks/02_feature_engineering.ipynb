{
 "cells": [
  {
   "cell_type": "markdown",
   "metadata": {},
   "source": [
    "# 02.- Feature Engineering"
   ]
  },
  {
   "cell_type": "code",
   "execution_count": 3,
   "metadata": {},
   "outputs": [],
   "source": [
    "import pandas as pd\n",
    "import numpy as np\n",
    "import pickle as pkl\n",
    "from sklearn import preprocessing\n",
    "\n",
    "# from utils.plotting import candlestick_plot, local_maxima_minima_plot"
   ]
  },
  {
   "cell_type": "markdown",
   "metadata": {},
   "source": [
    "## Raw Data Loading"
   ]
  },
  {
   "cell_type": "code",
   "execution_count": 4,
   "metadata": {},
   "outputs": [
    {
     "data": {
      "text/html": [
       "<div>\n",
       "<style scoped>\n",
       "    .dataframe tbody tr th:only-of-type {\n",
       "        vertical-align: middle;\n",
       "    }\n",
       "\n",
       "    .dataframe tbody tr th {\n",
       "        vertical-align: top;\n",
       "    }\n",
       "\n",
       "    .dataframe thead th {\n",
       "        text-align: right;\n",
       "    }\n",
       "</style>\n",
       "<table border=\"1\" class=\"dataframe\">\n",
       "  <thead>\n",
       "    <tr style=\"text-align: right;\">\n",
       "      <th></th>\n",
       "      <th>close</th>\n",
       "      <th>high</th>\n",
       "      <th>low</th>\n",
       "      <th>open</th>\n",
       "      <th>vol</th>\n",
       "    </tr>\n",
       "  </thead>\n",
       "  <tbody>\n",
       "    <tr>\n",
       "      <th>2000-01-03</th>\n",
       "      <td>11610.0</td>\n",
       "      <td>11881.8</td>\n",
       "      <td>11574.4</td>\n",
       "      <td>11846.6</td>\n",
       "      <td>60107000.0</td>\n",
       "    </tr>\n",
       "    <tr>\n",
       "      <th>2000-01-04</th>\n",
       "      <td>11206.6</td>\n",
       "      <td>11530.0</td>\n",
       "      <td>11159.8</td>\n",
       "      <td>11499.5</td>\n",
       "      <td>62539000.0</td>\n",
       "    </tr>\n",
       "    <tr>\n",
       "      <th>2000-01-05</th>\n",
       "      <td>10863.1</td>\n",
       "      <td>11068.1</td>\n",
       "      <td>10824.9</td>\n",
       "      <td>11206.6</td>\n",
       "      <td>68153000.0</td>\n",
       "    </tr>\n",
       "    <tr>\n",
       "      <th>2000-01-07</th>\n",
       "      <td>11102.4</td>\n",
       "      <td>11137.9</td>\n",
       "      <td>10882.7</td>\n",
       "      <td>10963.4</td>\n",
       "      <td>144207000.0</td>\n",
       "    </tr>\n",
       "    <tr>\n",
       "      <th>2000-01-10</th>\n",
       "      <td>11173.3</td>\n",
       "      <td>11364.3</td>\n",
       "      <td>11120.6</td>\n",
       "      <td>11363.8</td>\n",
       "      <td>133817000.0</td>\n",
       "    </tr>\n",
       "  </tbody>\n",
       "</table>\n",
       "</div>"
      ],
      "text/plain": [
       "              close     high      low     open          vol\n",
       "2000-01-03  11610.0  11881.8  11574.4  11846.6   60107000.0\n",
       "2000-01-04  11206.6  11530.0  11159.8  11499.5   62539000.0\n",
       "2000-01-05  10863.1  11068.1  10824.9  11206.6   68153000.0\n",
       "2000-01-07  11102.4  11137.9  10882.7  10963.4  144207000.0\n",
       "2000-01-10  11173.3  11364.3  11120.6  11363.8  133817000.0"
      ]
     },
     "execution_count": 4,
     "metadata": {},
     "output_type": "execute_result"
    }
   ],
   "source": [
    "# Open the pickle file containing raw benchmark data.\n",
    "with open('../data/raw/benchmark_data.pkl', 'rb') as handle:\n",
    "    bm = pkl.load(handle)\n",
    "\n",
    "data = bm['ibex']\n",
    "data.head()"
   ]
  },
  {
   "cell_type": "code",
   "execution_count": 6,
   "metadata": {},
   "outputs": [],
   "source": [
    "def min_max_locales(data: pd.DataFrame) -> tuple[pd.Series,\n",
    "                                                 np.ndarray,\n",
    "                                                 np.ndarray]:\n",
    "    \"\"\"\n",
    "    Identifies local minima and maxima from the 'low' values\n",
    "    of a given time series using polynomial fitting.\n",
    "\n",
    "    Args:\n",
    "        data (pd.DataFrame): A DataFrame containing a 'low'\n",
    "        column that represents the lowest values (e.g., stock lows).\n",
    "\n",
    "    Returns:\n",
    "        tuple[pd.Series, np.ndarray, np.ndarray]: \n",
    "            - A Series of the normalized 'low' values.\n",
    "            - Indices of the local minima.\n",
    "            - Indices of the local maxima.\n",
    "    \"\"\"\n",
    "\n",
    "    # Normalize the 'low' values of the data using min-max scaling, \n",
    "    # bringing values into the range [0, 1].\n",
    "    data_scaled = pd.Series(\n",
    "        preprocessing.minmax_scale(data['low']),\n",
    "        index=data.index\n",
    "    )\n",
    "    \n",
    "    # Prepare the data for polynomial fitting. 'x_data' are the \n",
    "    # indices and 'y_data' are the scaled 'low' values.\n",
    "    x_data = data_scaled.index.tolist()\n",
    "    y_data = data_scaled\n",
    "\n",
    "    # Create a smooth range for fitting\n",
    "    x = np.linspace(0, max(x_data), max(x_data) + 1)  \n",
    "\n",
    "    # Fit a 15th degree polynomial to the data. This degree captures \n",
    "    # local variations in the data.\n",
    "    pol = np.polyfit(x_data, y_data, 15)\n",
    "    # Evaluate the polynomial at the specified x values\n",
    "    y_pol = np.polyval(pol, x)\n",
    "\n",
    "    # Find local minima (where the second derivative changes \n",
    "    # sign from negative to positive)\n",
    "    minimos_locales = (\n",
    "        np.diff(np.sign(np.diff(y_pol))) > 0\n",
    "        ).nonzero()[0] + 1\n",
    "\n",
    "    # Find local maxima (where the second derivative changes \n",
    "    # sign from positive to negative)\n",
    "    maximos_locales = (\n",
    "        np.diff(np.sign(np.diff(y_pol))) < 0\n",
    "        ).nonzero()[0] + 1\n",
    "\n",
    "    # Return the normalized 'low' values, local minima, and \n",
    "    # local maxima\n",
    "    return data_scaled, minimos_locales, maximos_locales\n"
   ]
  },
  {
   "cell_type": "code",
   "execution_count": 36,
   "metadata": {},
   "outputs": [],
   "source": [
    "window_size = 50\n",
    "\n",
    "# Randomly select a starting index\n",
    "start_index = np.random.randint(0, len(data) - window_size + 1)\n",
    "\n",
    "# Select the consecutive window of rows\n",
    "random_window = data.iloc[start_index:start_index + window_size]"
   ]
  },
  {
   "cell_type": "markdown",
   "metadata": {},
   "source": [
    "## Features"
   ]
  },
  {
   "cell_type": "markdown",
   "metadata": {},
   "source": [
    "### Feature 1: Absolute Extrema Duration\n",
    "This feature could highlight relative compression or elongation of trends. For instance:\n",
    "\n",
    "Rapid Changes: A small time difference could hint at erratic or impulsive market behavior, potentially filtering out broader, more gradual trends that might not fit a double-bottom scenario.\n",
    "\n",
    "Structure of Support and Resistance: Longer time differences between the extremes could indicate a more stable consolidation, aligning with the characteristics of a well-formed double bottom, where the two lows and the interim peak occur over a longer timeframe.\n"
   ]
  },
  {
   "cell_type": "code",
   "execution_count": 37,
   "metadata": {},
   "outputs": [],
   "source": [
    "def absolute_extrema_duration(data: pd.DataFrame) -> float:\n",
    "    \"\"\"Calculate the number of days between the maximum \n",
    "    and minimum values in a time series.\n",
    "\n",
    "    Args:\n",
    "        data (pd.DataFrame): DataFrame containing OHLC data.\n",
    "\n",
    "    Returns:\n",
    "        float: Number of days between the highest and \n",
    "        lowest values divided by the window lengh.\n",
    "        \n",
    "        This normalization can make your model more robust \n",
    "        when handling different time windows or comparing \n",
    "        different patterns\n",
    "    \"\"\"\n",
    "    # Get the indices of the maximum and minimum \n",
    "    # values directly\n",
    "    max_index = data.index.get_loc(\n",
    "        data.high.idxmax().strftime(\"%Y-%m-%d\"))\n",
    "    min_index = data.index.get_loc(\n",
    "        data.low.idxmin().strftime(\"%Y-%m-%d\"))\n",
    "\n",
    "    # Calculate the difference in days directly \n",
    "    # and normalizes the result\n",
    "    duration = abs(\n",
    "        (max_index - min_index)\n",
    "        ) / len(data)\n",
    "    \n",
    "    return duration\n"
   ]
  },
  {
   "cell_type": "code",
   "execution_count": 38,
   "metadata": {},
   "outputs": [
    {
     "data": {
      "text/plain": [
       "0.34"
      ]
     },
     "execution_count": 38,
     "metadata": {},
     "output_type": "execute_result"
    }
   ],
   "source": [
    "absolute_extrema_duration(random_window)"
   ]
  },
  {
   "cell_type": "code",
   "execution_count": null,
   "metadata": {},
   "outputs": [],
   "source": []
  }
 ],
 "metadata": {
  "kernelspec": {
   "display_name": "double-bottom-detection-ml",
   "language": "python",
   "name": "python3"
  },
  "language_info": {
   "codemirror_mode": {
    "name": "ipython",
    "version": 3
   },
   "file_extension": ".py",
   "mimetype": "text/x-python",
   "name": "python",
   "nbconvert_exporter": "python",
   "pygments_lexer": "ipython3",
   "version": "3.9.20"
  }
 },
 "nbformat": 4,
 "nbformat_minor": 2
}
