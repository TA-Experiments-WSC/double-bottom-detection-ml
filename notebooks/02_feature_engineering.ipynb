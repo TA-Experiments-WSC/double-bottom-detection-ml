{
 "cells": [
  {
   "cell_type": "markdown",
   "metadata": {},
   "source": [
    "# 02.- Feature Engineering"
   ]
  },
  {
   "cell_type": "code",
   "execution_count": 7,
   "metadata": {},
   "outputs": [],
   "source": [
    "import pandas as pd\n",
    "import numpy as np\n",
    "import pickle as pkl\n",
    "from sklearn import preprocessing\n",
    "\n",
    "# from utils.plotting import candlestick_plot, local_maxima_minima_plot"
   ]
  },
  {
   "cell_type": "markdown",
   "metadata": {},
   "source": [
    "## Raw Data Loading"
   ]
  },
  {
   "cell_type": "code",
   "execution_count": 17,
   "metadata": {},
   "outputs": [
    {
     "data": {
      "text/html": [
       "<div>\n",
       "<style scoped>\n",
       "    .dataframe tbody tr th:only-of-type {\n",
       "        vertical-align: middle;\n",
       "    }\n",
       "\n",
       "    .dataframe tbody tr th {\n",
       "        vertical-align: top;\n",
       "    }\n",
       "\n",
       "    .dataframe thead th {\n",
       "        text-align: right;\n",
       "    }\n",
       "</style>\n",
       "<table border=\"1\" class=\"dataframe\">\n",
       "  <thead>\n",
       "    <tr style=\"text-align: right;\">\n",
       "      <th></th>\n",
       "      <th>close</th>\n",
       "      <th>high</th>\n",
       "      <th>low</th>\n",
       "      <th>open</th>\n",
       "      <th>vol</th>\n",
       "    </tr>\n",
       "  </thead>\n",
       "  <tbody>\n",
       "    <tr>\n",
       "      <th>2000-01-03</th>\n",
       "      <td>11610.0</td>\n",
       "      <td>11881.8</td>\n",
       "      <td>11574.4</td>\n",
       "      <td>11846.6</td>\n",
       "      <td>60107000.0</td>\n",
       "    </tr>\n",
       "    <tr>\n",
       "      <th>2000-01-04</th>\n",
       "      <td>11206.6</td>\n",
       "      <td>11530.0</td>\n",
       "      <td>11159.8</td>\n",
       "      <td>11499.5</td>\n",
       "      <td>62539000.0</td>\n",
       "    </tr>\n",
       "    <tr>\n",
       "      <th>2000-01-05</th>\n",
       "      <td>10863.1</td>\n",
       "      <td>11068.1</td>\n",
       "      <td>10824.9</td>\n",
       "      <td>11206.6</td>\n",
       "      <td>68153000.0</td>\n",
       "    </tr>\n",
       "    <tr>\n",
       "      <th>2000-01-07</th>\n",
       "      <td>11102.4</td>\n",
       "      <td>11137.9</td>\n",
       "      <td>10882.7</td>\n",
       "      <td>10963.4</td>\n",
       "      <td>144207000.0</td>\n",
       "    </tr>\n",
       "    <tr>\n",
       "      <th>2000-01-10</th>\n",
       "      <td>11173.3</td>\n",
       "      <td>11364.3</td>\n",
       "      <td>11120.6</td>\n",
       "      <td>11363.8</td>\n",
       "      <td>133817000.0</td>\n",
       "    </tr>\n",
       "  </tbody>\n",
       "</table>\n",
       "</div>"
      ],
      "text/plain": [
       "              close     high      low     open          vol\n",
       "2000-01-03  11610.0  11881.8  11574.4  11846.6   60107000.0\n",
       "2000-01-04  11206.6  11530.0  11159.8  11499.5   62539000.0\n",
       "2000-01-05  10863.1  11068.1  10824.9  11206.6   68153000.0\n",
       "2000-01-07  11102.4  11137.9  10882.7  10963.4  144207000.0\n",
       "2000-01-10  11173.3  11364.3  11120.6  11363.8  133817000.0"
      ]
     },
     "execution_count": 17,
     "metadata": {},
     "output_type": "execute_result"
    }
   ],
   "source": [
    "# Open the pickle file containing raw benchmark data.\n",
    "with open('../data/raw/benchmark_data.pkl', 'rb') as handle:\n",
    "    bm = pkl.load(handle)\n",
    "\n",
    "data = bm['ibex']\n",
    "# data['date'] = data.index\n",
    "# data = data.reset_index(drop=True)\n",
    "data.head()"
   ]
  },
  {
   "cell_type": "code",
   "execution_count": 18,
   "metadata": {},
   "outputs": [],
   "source": [
    "window_size = 50\n",
    "\n",
    "# Randomly select a starting index\n",
    "start_index = np.random.randint(0, len(data) - window_size + 1)\n",
    "\n",
    "# Select the consecutive window of rows\n",
    "random_window = data.iloc[start_index:start_index + window_size]"
   ]
  },
  {
   "cell_type": "code",
   "execution_count": 29,
   "metadata": {},
   "outputs": [],
   "source": [
    "def local_min_max(data: pd.DataFrame) -> tuple[pd.Series,\n",
    "                                               np.ndarray,\n",
    "                                               np.ndarray]:\n",
    "    \"\"\"\n",
    "    Identifies local minima and maxima from the 'low' values\n",
    "    of a given time series using polynomial fitting.\n",
    "\n",
    "    Args:\n",
    "        data (pd.DataFrame): A DataFrame containing a 'low'\n",
    "        column that represents the lowest values (e.g., stock lows).\n",
    "\n",
    "    Returns:\n",
    "        tuple[pd.Series, np.ndarray, np.ndarray]: \n",
    "            - A Series of the normalized 'low' values.\n",
    "            - Indices of the local minima.\n",
    "            - Indices of the local maxima.\n",
    "    \"\"\"\n",
    "\n",
    "    # Normalize the 'low' values of the data using min-max scaling, \n",
    "    # bringing values into the range [0, 1].\n",
    "    data_scaled = pd.Series(\n",
    "        preprocessing.minmax_scale(data['low']),\n",
    "        index=data.index\n",
    "    ).reset_index(drop=True)\n",
    "    \n",
    "    # Prepare the data for polynomial fitting. 'x_data' are the \n",
    "    # indices and 'y_data' are the scaled 'low' values.\n",
    "    x_data = data_scaled.index.tolist()\n",
    "    y_data = data_scaled\n",
    "\n",
    "    # Create a smooth range for fitting\n",
    "    x = np.linspace(0, max(x_data), max(x_data) + 1)  \n",
    "\n",
    "    # Fit a 15th degree polynomial to the data. This degree captures \n",
    "    # local variations in the data.\n",
    "    pol = np.polyfit(x_data, y_data, 15)\n",
    "    # Evaluate the polynomial at the specified x values\n",
    "    y_pol = np.polyval(pol, x)\n",
    "\n",
    "    # Find local minima (where the second derivative changes \n",
    "    # sign from negative to positive)\n",
    "    local_min = (\n",
    "        np.diff(np.sign(np.diff(y_pol))) > 0\n",
    "        ).nonzero()[0] + 1\n",
    "\n",
    "    # Find local maxima (where the second derivative changes \n",
    "    # sign from positive to negative)\n",
    "    local_max = (\n",
    "        np.diff(np.sign(np.diff(y_pol))) < 0\n",
    "        ).nonzero()[0] + 1\n",
    "\n",
    "    # Return the normalized 'low' values, local minima, and \n",
    "    # local maxima\n",
    "    return data_scaled, local_min, local_max\n"
   ]
  },
  {
   "cell_type": "markdown",
   "metadata": {},
   "source": [
    "## Features"
   ]
  },
  {
   "cell_type": "markdown",
   "metadata": {},
   "source": [
    "### Feature 1: Absolute Extrema Duration\n",
    "This feature could highlight relative compression or elongation of trends. For instance:\n",
    "\n",
    "1. **Rapid Changes**:\n",
    "   A small time difference could hint at erratic or impulsive market behavior, potentially filtering out broader, more gradual trends that might not fit a double-bottom scenario.\n",
    "\n",
    "2. **Structure of Support and Resistance**:\n",
    "   Longer time differences between the extremes could indicate a more stable consolidation, aligning with the characteristics of a well-formed double bottom, where the two lows and the interim peak occur over a longer timeframe.\n"
   ]
  },
  {
   "cell_type": "code",
   "execution_count": 30,
   "metadata": {},
   "outputs": [],
   "source": [
    "def absolute_extrema_duration(data: pd.DataFrame) -> float:\n",
    "    \"\"\"Calculate the number of days between the maximum \n",
    "    and minimum values in a time series.\n",
    "\n",
    "    Args:\n",
    "        data (pd.DataFrame): DataFrame containing OHLC data.\n",
    "\n",
    "    Returns:\n",
    "        float: Number of days between the highest and \n",
    "        lowest values divided by the window lengh.\n",
    "        \n",
    "        This normalization can make your model more robust \n",
    "        when handling different time windows or comparing \n",
    "        different patterns\n",
    "    \"\"\"\n",
    "    # Get the indices of the maximum and minimum \n",
    "    # values directly\n",
    "    max_index = data.index.get_loc(\n",
    "        data.high.idxmax().strftime(\"%Y-%m-%d\"))\n",
    "    min_index = data.index.get_loc(\n",
    "        data.low.idxmin().strftime(\"%Y-%m-%d\"))\n",
    "\n",
    "    # Calculate the difference in days directly \n",
    "    # and normalizes the result\n",
    "    duration = abs(\n",
    "        (max_index - min_index)\n",
    "        ) / len(data)\n",
    "    \n",
    "    return duration\n"
   ]
  },
  {
   "cell_type": "code",
   "execution_count": 31,
   "metadata": {},
   "outputs": [
    {
     "data": {
      "text/plain": [
       "0.3"
      ]
     },
     "execution_count": 31,
     "metadata": {},
     "output_type": "execute_result"
    }
   ],
   "source": [
    "absolute_extrema_duration(random_window)"
   ]
  },
  {
   "cell_type": "markdown",
   "metadata": {},
   "source": [
    "### Feature 2: Low Threshold Minima Count\n",
    "\n",
    "1. **Capturing Potential \"Bottoms\"**:\n",
    "   The double-bottom pattern is characterized by two distinct troughs. By counting local minima that fall below a threshold, this feature highlights regions where the price exhibits pronounced dips, which are critical to identifying the pattern.\n",
    "\n",
    "2. **Indicator of Significant Downward Movements**:\n",
    "   A higher count of minima below the threshold suggests strong downward pressures within the window, increasing the likelihood of the presence of one or more \"bottoms.\" This metric helps focus the analysis on windows with sufficient depth for the pattern to exist.\n",
    "\n",
    "3. **Normalization Across Windows**:\n",
    "   Dividing the count by the length of the data window ensures that the feature is scale-invariant and comparable across windows of different sizes. This is essential for ensuring that the feature is meaningful in varying contexts, regardless of the specific duration of the window.\n",
    "\n",
    "4. **Threshold as a Proxy for Pattern Shape**:\n",
    "   The chosen threshold (e.g., 0.20) is a proxy for the depth of price movements. Adjusting this value can help fine-tune the feature to be sensitive to the specific characteristics of double bottoms in the dataset being analyzed.\n"
   ]
  },
  {
   "cell_type": "code",
   "execution_count": 32,
   "metadata": {},
   "outputs": [],
   "source": [
    "def low_threshold_minima_count(data: pd.DataFrame) -> float:\n",
    "    \"\"\"\n",
    "    Calculate the proportion of local minima below a specified \n",
    "    threshold within a time window.\n",
    "\n",
    "    Args:\n",
    "        data (pd.DataFrame): DataFrame containing OHLC data.\n",
    "\n",
    "    Returns:\n",
    "        float: Proportion of local minima below the 0.20 \n",
    "        threshold relative to the data length.\n",
    "    \"\"\"\n",
    "    # Scale the 'low' column and find local minima\n",
    "    data_scaled, local_min, _ = local_min_max(data)\n",
    "    \n",
    "    # Extract the values of the local minima\n",
    "    local_min_values = data_scaled.loc[local_min]\n",
    "\n",
    "    # Count minima below the threshold and normalize \n",
    "    # by the data length\n",
    "    count = local_min_values.loc[\n",
    "        (local_min_values < 0.20)].count() / len(data)\n",
    "    \n",
    "    # Return the computed proportion\n",
    "    return count"
   ]
  },
  {
   "cell_type": "code",
   "execution_count": 33,
   "metadata": {},
   "outputs": [
    {
     "data": {
      "text/plain": [
       "np.float64(0.04)"
      ]
     },
     "execution_count": 33,
     "metadata": {},
     "output_type": "execute_result"
    }
   ],
   "source": [
    "low_threshold_minima_count(random_window)"
   ]
  }
 ],
 "metadata": {
  "kernelspec": {
   "display_name": "double-bottom-detection-ml",
   "language": "python",
   "name": "python3"
  },
  "language_info": {
   "codemirror_mode": {
    "name": "ipython",
    "version": 3
   },
   "file_extension": ".py",
   "mimetype": "text/x-python",
   "name": "python",
   "nbconvert_exporter": "python",
   "pygments_lexer": "ipython3",
   "version": "3.9.20"
  }
 },
 "nbformat": 4,
 "nbformat_minor": 2
}
