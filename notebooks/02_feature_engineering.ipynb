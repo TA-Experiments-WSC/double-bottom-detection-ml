{
 "cells": [
  {
   "cell_type": "markdown",
   "metadata": {},
   "source": [
    "# 02.- Feature Engineering"
   ]
  },
  {
   "cell_type": "code",
   "execution_count": 1,
   "metadata": {},
   "outputs": [],
   "source": [
    "import pandas as pd\n",
    "import numpy as np\n",
    "import pickle as pkl\n",
    "from sklearn import preprocessing\n",
    "\n",
    "from utils.plotting import candlestick_plot, local_maxima_minima_plot"
   ]
  },
  {
   "cell_type": "markdown",
   "metadata": {},
   "source": [
    "## Raw Data Loading"
   ]
  },
  {
   "cell_type": "code",
   "execution_count": 2,
   "metadata": {},
   "outputs": [
    {
     "data": {
      "text/html": [
       "<div>\n",
       "<style scoped>\n",
       "    .dataframe tbody tr th:only-of-type {\n",
       "        vertical-align: middle;\n",
       "    }\n",
       "\n",
       "    .dataframe tbody tr th {\n",
       "        vertical-align: top;\n",
       "    }\n",
       "\n",
       "    .dataframe thead th {\n",
       "        text-align: right;\n",
       "    }\n",
       "</style>\n",
       "<table border=\"1\" class=\"dataframe\">\n",
       "  <thead>\n",
       "    <tr style=\"text-align: right;\">\n",
       "      <th></th>\n",
       "      <th>close</th>\n",
       "      <th>high</th>\n",
       "      <th>low</th>\n",
       "      <th>open</th>\n",
       "      <th>vol</th>\n",
       "    </tr>\n",
       "  </thead>\n",
       "  <tbody>\n",
       "    <tr>\n",
       "      <th>2000-01-03</th>\n",
       "      <td>11610.0</td>\n",
       "      <td>11881.8</td>\n",
       "      <td>11574.4</td>\n",
       "      <td>11846.6</td>\n",
       "      <td>60107000.0</td>\n",
       "    </tr>\n",
       "    <tr>\n",
       "      <th>2000-01-04</th>\n",
       "      <td>11206.6</td>\n",
       "      <td>11530.0</td>\n",
       "      <td>11159.8</td>\n",
       "      <td>11499.5</td>\n",
       "      <td>62539000.0</td>\n",
       "    </tr>\n",
       "    <tr>\n",
       "      <th>2000-01-05</th>\n",
       "      <td>10863.1</td>\n",
       "      <td>11068.1</td>\n",
       "      <td>10824.9</td>\n",
       "      <td>11206.6</td>\n",
       "      <td>68153000.0</td>\n",
       "    </tr>\n",
       "    <tr>\n",
       "      <th>2000-01-07</th>\n",
       "      <td>11102.4</td>\n",
       "      <td>11137.9</td>\n",
       "      <td>10882.7</td>\n",
       "      <td>10963.4</td>\n",
       "      <td>144207000.0</td>\n",
       "    </tr>\n",
       "    <tr>\n",
       "      <th>2000-01-10</th>\n",
       "      <td>11173.3</td>\n",
       "      <td>11364.3</td>\n",
       "      <td>11120.6</td>\n",
       "      <td>11363.8</td>\n",
       "      <td>133817000.0</td>\n",
       "    </tr>\n",
       "  </tbody>\n",
       "</table>\n",
       "</div>"
      ],
      "text/plain": [
       "              close     high      low     open          vol\n",
       "2000-01-03  11610.0  11881.8  11574.4  11846.6   60107000.0\n",
       "2000-01-04  11206.6  11530.0  11159.8  11499.5   62539000.0\n",
       "2000-01-05  10863.1  11068.1  10824.9  11206.6   68153000.0\n",
       "2000-01-07  11102.4  11137.9  10882.7  10963.4  144207000.0\n",
       "2000-01-10  11173.3  11364.3  11120.6  11363.8  133817000.0"
      ]
     },
     "execution_count": 2,
     "metadata": {},
     "output_type": "execute_result"
    }
   ],
   "source": [
    "# Open the pickle file containing raw benchmark data.\n",
    "with open('../data/raw/benchmark_data.pkl', 'rb') as handle:\n",
    "    bm = pkl.load(handle)\n",
    "\n",
    "data = bm['ibex']\n",
    "data.head()"
   ]
  },
  {
   "cell_type": "code",
   "execution_count": 3,
   "metadata": {},
   "outputs": [
    {
     "data": {
      "application/vnd.jupyter.widget-view+json": {
       "model_id": "b8c5591d51a54785999d53a2377737d8",
       "version_major": 2,
       "version_minor": 0
      },
      "text/plain": [
       "FigureWidget({\n",
       "    'data': [{'close': [9606.5, 9569.5, 9467.6, 9399.1, 9376.1, 9376.3, 9301.3,\n",
       "                        9208.7, 9171.2, 9270.8, 9284.1, 9306.8, 9329.2, 9365.3,\n",
       "                        9404.6, 9447.5, 9486.3, 9583.7, 9590.4, 9512.8, 9493.6,\n",
       "                        9524.8, 9527.5, 9389.2, 9407.0, 9305.5, 9361.1, 9314.5,\n",
       "                        9253.9, 9199.2],\n",
       "              'high': [9671.1, 9597.1, 9574.1, 9470.6, 9421.6, 9436.1, 9377.6,\n",
       "                       9291.8, 9237.9, 9300.9, 9302.5, 9319.7, 9387.1, 9378.3,\n",
       "                       9434.4, 9453.6, 9502.9, 9607.0, 9665.4, 9586.0, 9568.0,\n",
       "                       9530.3, 9542.8, 9468.9, 9475.2, 9356.1, 9424.7, 9378.7,\n",
       "                       9318.1, 9243.0],\n",
       "              'low': [9598.4, 9502.3, 9445.1, 9375.1, 9356.1, 9308.7, 9301.3,\n",
       "                      9208.2, 9111.1, 9161.0, 9211.8, 9248.7, 9296.7, 9324.2,\n",
       "                      9349.9, 9385.8, 9422.4, 9488.3, 9563.3, 9499.9, 9480.4,\n",
       "                      9471.1, 9406.8, 9299.6, 9367.6, 9285.1, 9300.8, 9304.7,\n",
       "                      9239.9, 9167.4],\n",
       "              'open': [9667.6, 9585.7, 9546.1, 9466.3, 9387.7, 9414.7, 9353.2,\n",
       "                       9267.7, 9209.2, 9173.0, 9301.1, 9286.5, 9308.0, 9359.4,\n",
       "                       9350.3, 9406.7, 9464.4, 9489.5, 9614.3, 9549.9, 9524.8,\n",
       "                       9519.6, 9492.5, 9468.0, 9384.3, 9349.1, 9360.6, 9349.0,\n",
       "                       9318.1, 9227.1],\n",
       "              'type': 'candlestick',\n",
       "              'uid': 'c1cb0f76-5678-4e4a-8b7d-695ea9e87df8',\n",
       "              'x': [2018-08-28 00:00:00, 2018-08-29 00:00:00, 2018-08-30 00:00:00,\n",
       "                    2018-08-31 00:00:00, 2018-09-03 00:00:00, 2018-09-04 00:00:00,\n",
       "                    2018-09-05 00:00:00, 2018-09-06 00:00:00, 2018-09-07 00:00:00,\n",
       "                    2018-09-10 00:00:00, 2018-09-11 00:00:00, 2018-09-12 00:00:00,\n",
       "                    2018-09-13 00:00:00, 2018-09-14 00:00:00, 2018-09-17 00:00:00,\n",
       "                    2018-09-18 00:00:00, 2018-09-19 00:00:00, 2018-09-20 00:00:00,\n",
       "                    2018-09-21 00:00:00, 2018-09-24 00:00:00, 2018-09-25 00:00:00,\n",
       "                    2018-09-26 00:00:00, 2018-09-27 00:00:00, 2018-09-28 00:00:00,\n",
       "                    2018-10-01 00:00:00, 2018-10-02 00:00:00, 2018-10-03 00:00:00,\n",
       "                    2018-10-04 00:00:00, 2018-10-05 00:00:00, 2018-10-08 00:00:00]}],\n",
       "    'layout': {'height': 500,\n",
       "               'template': '...',\n",
       "               'title': {'text': 'Candlestick Chart: Random Window'},\n",
       "               'xaxis': {'rangeslider': {'visible': False}, 'type': 'date'}}\n",
       "})"
      ]
     },
     "execution_count": 3,
     "metadata": {},
     "output_type": "execute_result"
    }
   ],
   "source": [
    "window_size = 30\n",
    "\n",
    "# Randomly select a starting index\n",
    "start_index = np.random.randint(0, len(data) - window_size + 1)\n",
    "\n",
    "# Select the consecutive window of rows\n",
    "random_window = data.iloc[start_index:start_index + window_size]\n",
    "candlestick_plot(random_window, 'Random Window')"
   ]
  },
  {
   "cell_type": "code",
   "execution_count": 25,
   "metadata": {},
   "outputs": [],
   "source": [
    "def local_min_max(data: pd.DataFrame) -> tuple[pd.Series,\n",
    "                                               np.ndarray,\n",
    "                                               np.ndarray]:\n",
    "    \"\"\"\n",
    "    Identifies local minima and maxima from the 'low' values\n",
    "    of a given time series using polynomial fitting.\n",
    "\n",
    "    Args:\n",
    "        data (pd.DataFrame): A DataFrame containing a 'low'\n",
    "        column that represents the lowest values (e.g., stock lows).\n",
    "\n",
    "    Returns:\n",
    "        tuple[pd.Series, np.ndarray, np.ndarray]: \n",
    "            - A Series of the normalized 'low' values.\n",
    "            - Indices of the local minima.\n",
    "            - Indices of the local maxima.\n",
    "    \"\"\"\n",
    "\n",
    "    # Normalize the 'low' values of the data using min-max scaling, \n",
    "    # bringing values into the range [0, 1].\n",
    "    data_scaled = pd.Series(\n",
    "        preprocessing.minmax_scale(data['low']),\n",
    "        index=data.index\n",
    "    ).reset_index(drop=True)\n",
    "    \n",
    "    # Prepare the data for polynomial fitting. 'x_data' are the \n",
    "    # indices and 'y_data' are the scaled 'low' values.\n",
    "    x_data = data_scaled.index.tolist()\n",
    "    y_data = data_scaled\n",
    "\n",
    "    # Create a smooth range for fitting\n",
    "    x = np.linspace(0, max(x_data), max(x_data) + 1)  \n",
    "\n",
    "    # Fit a 15th degree polynomial to the data. This degree captures \n",
    "    # local variations in the data.\n",
    "    pol = np.polyfit(x_data, y_data, 15)\n",
    "    # Evaluate the polynomial at the specified x values\n",
    "    y_pol = np.polyval(pol, x)\n",
    "\n",
    "    # Find local minima (where the second derivative changes \n",
    "    # sign from negative to positive)\n",
    "    local_min = (\n",
    "        np.diff(np.sign(np.diff(y_pol))) > 0\n",
    "        ).nonzero()[0] + 1\n",
    "\n",
    "    # Find local maxima (where the second derivative changes \n",
    "    # sign from positive to negative)\n",
    "    local_max = (\n",
    "        np.diff(np.sign(np.diff(y_pol))) < 0\n",
    "        ).nonzero()[0] + 1\n",
    "\n",
    "    # Return the normalized 'low' values, local minima, and \n",
    "    # local maxima\n",
    "    return data_scaled, local_min, local_max\n"
   ]
  },
  {
   "cell_type": "code",
   "execution_count": 28,
   "metadata": {},
   "outputs": [],
   "source": [
    "data_scaled, local_min, local_max = local_min_max(random_window)"
   ]
  },
  {
   "cell_type": "markdown",
   "metadata": {},
   "source": [
    "## Features Definition"
   ]
  },
  {
   "cell_type": "markdown",
   "metadata": {},
   "source": [
    "### Feature 1: Absolute Extrema Duration\n",
    "This feature could highlight relative compression or elongation of trends. For instance:\n",
    "\n",
    "1. **Rapid Changes**:\n",
    "   A small time difference could hint at erratic or impulsive market behavior, potentially filtering out broader, more gradual trends that might not fit a double-bottom scenario.\n",
    "\n",
    "2. **Structure of Support and Resistance**:\n",
    "   Longer time differences between the extremes could indicate a more stable consolidation, aligning with the characteristics of a well-formed double bottom, where the two lows and the interim peak occur over a longer timeframe.\n"
   ]
  },
  {
   "cell_type": "code",
   "execution_count": 29,
   "metadata": {},
   "outputs": [],
   "source": [
    "def absolute_extrema_duration(data: pd.DataFrame) -> float:\n",
    "    \"\"\"Calculate the number of days between the maximum \n",
    "    and minimum values in a time series.\n",
    "\n",
    "    Args:\n",
    "        data (pd.DataFrame): DataFrame containing OHLC data.\n",
    "\n",
    "    Returns:\n",
    "        float: Number of days between the highest and \n",
    "        lowest values divided by the window lengh.\n",
    "        \n",
    "        This normalization can make your model more robust \n",
    "        when handling different time windows or comparing \n",
    "        different patterns\n",
    "    \"\"\"\n",
    "    # Get the indices of the maximum and minimum \n",
    "    # values directly\n",
    "    max_index = data.index.get_loc(\n",
    "        data.high.idxmax().strftime(\"%Y-%m-%d\"))\n",
    "    min_index = data.index.get_loc(\n",
    "        data.low.idxmin().strftime(\"%Y-%m-%d\"))\n",
    "\n",
    "    # Calculate the difference in days directly \n",
    "    # and normalizes the result\n",
    "    duration = abs(\n",
    "        (max_index - min_index)\n",
    "        ) / len(data)\n",
    "    \n",
    "    return duration\n"
   ]
  },
  {
   "cell_type": "code",
   "execution_count": 30,
   "metadata": {},
   "outputs": [
    {
     "data": {
      "text/plain": [
       "0.26666666666666666"
      ]
     },
     "execution_count": 30,
     "metadata": {},
     "output_type": "execute_result"
    }
   ],
   "source": [
    "absolute_extrema_duration(random_window)"
   ]
  },
  {
   "cell_type": "markdown",
   "metadata": {},
   "source": [
    "### Feature 2: Low Threshold Minima Count\n",
    "\n",
    "1. **Capturing Potential \"Bottoms\"**:\n",
    "   The double-bottom pattern is characterized by two distinct troughs. By counting local minima that fall below a threshold, this feature highlights regions where the price exhibits pronounced dips, which are critical to identifying the pattern.\n",
    "\n",
    "2. **Indicator of Significant Downward Movements**:\n",
    "   A higher count of minima below the threshold suggests strong downward pressures within the window, increasing the likelihood of the presence of one or more \"bottoms.\" This metric helps focus the analysis on windows with sufficient depth for the pattern to exist.\n",
    "\n",
    "3. **Normalization Across Windows**:\n",
    "   Dividing the count by the length of the data window ensures that the feature is scale-invariant and comparable across windows of different sizes. This is essential for ensuring that the feature is meaningful in varying contexts, regardless of the specific duration of the window.\n",
    "\n",
    "4. **Threshold as a Proxy for Pattern Shape**:\n",
    "   The chosen threshold (e.g., 0.20) is a proxy for the depth of price movements. Adjusting this value can help fine-tune the feature to be sensitive to the specific characteristics of double bottoms in the dataset being analyzed.\n"
   ]
  },
  {
   "cell_type": "code",
   "execution_count": 31,
   "metadata": {},
   "outputs": [],
   "source": [
    "def low_threshold_minima_count(data: pd.DataFrame) -> float:\n",
    "    \"\"\"\n",
    "    Calculate the proportion of local minima below a specified \n",
    "    threshold within a time window.\n",
    "\n",
    "    Args:\n",
    "        data (pd.DataFrame): DataFrame containing OHLC data.\n",
    "\n",
    "    Returns:\n",
    "        float: Proportion of local minima below the 0.20 \n",
    "        threshold relative to the data length.\n",
    "    \"\"\"\n",
    "    # Extract the values of the local minima\n",
    "    local_min_values = data_scaled.loc[local_min]\n",
    "\n",
    "    # Count minima below the threshold and normalize \n",
    "    # by the data length\n",
    "    count = local_min_values.loc[\n",
    "        (local_min_values < 0.20)].count() / len(data)\n",
    "    \n",
    "    # Return the computed proportion\n",
    "    return count"
   ]
  },
  {
   "cell_type": "code",
   "execution_count": 32,
   "metadata": {},
   "outputs": [
    {
     "data": {
      "text/plain": [
       "np.float64(0.03333333333333333)"
      ]
     },
     "execution_count": 32,
     "metadata": {},
     "output_type": "execute_result"
    }
   ],
   "source": [
    "low_threshold_minima_count(random_window)"
   ]
  },
  {
   "cell_type": "markdown",
   "metadata": {},
   "source": [
    "### Feature 3: Maxima Between Minima\n",
    "\n",
    "This feature is critical because it analyzes the relationship between two significant minima and the local maxima that might lie between them.\n",
    "\n",
    "1. **Pattern Recognition in Double Bottoms**: \n",
    "   The double-bottom pattern is characterized by two nearly equal lows (minima) separated by a peak (maximum). This feature captures the core structure of this pattern by checking if a maximum exists between two significant, low-valued minima.\n",
    "\n",
    "2. **Validation of Reversal Potential**:\n",
    "   By ensuring the minima are below a specified threshold (e.g., 0.20), the function confirms that these lows are significant enough to suggest potential market exhaustion. If a high lies between these lows, it indicates a potential reversal setup.\n",
    "\n",
    "3. **Highlighting Key Support and Resistance Levels**:\n",
    "   The relationship between the minima and maxima offers insights into market dynamics. The presence of a maximum between two significant lows suggests a potential neckline resistance, which is critical for validating the double-bottom breakout signal.\n",
    "\n",
    "4. **Temporal and Spatial Arrangement**:\n",
    "   This feature ensures that the minima and the intervening maximum occur in the correct sequence, an essential requirement for confirming the double-bottom shape.\n"
   ]
  },
  {
   "cell_type": "code",
   "execution_count": 33,
   "metadata": {},
   "outputs": [],
   "source": [
    "def max_between_min(data: pd.DataFrame) -> bool:\n",
    "    \"\"\"\n",
    "    Determines if the first local maximum lies between \n",
    "    the two lowest minima below a specific threshold (0.20),\n",
    "    indicating potential double-bottom behavior.\n",
    "\n",
    "    Args:\n",
    "        data (pd.DataFrame): A DataFrame containing OHLC data.\n",
    "\n",
    "    Returns:\n",
    "        bool: True if the first local maximum is between \n",
    "        the two lowest minima below the threshold, \n",
    "        False otherwise.\n",
    "    \"\"\"\n",
    "    # Extract and sort the two lowest minima\n",
    "    lowest_minima = (\n",
    "        data_scaled.loc[local_min]\n",
    "        .sort_values()\n",
    "        .iloc[:2]\n",
    "        .sort_index()\n",
    "    )\n",
    "\n",
    "    # Extract sorted maxima for comparison\n",
    "    sorted_maxima = data_scaled.loc[\n",
    "        local_max].sort_values()\n",
    "\n",
    "    # Check conditions: exactly two minima and both \n",
    "    # below the threshold\n",
    "    if (\n",
    "        len(lowest_minima) == 2 and \n",
    "        (lowest_minima.iloc[0] < 0.20) and \n",
    "        (lowest_minima.iloc[1] < 0.20)\n",
    "    ):\n",
    "        # Verify if the first local maximum is between \n",
    "        # the two minima\n",
    "        return any(\n",
    "            lowest_minima.index[0] < max_idx < lowest_minima.index[1]\n",
    "            for max_idx in sorted_maxima.index\n",
    "        )\n",
    "\n",
    "    # Return False if conditions are not met\n",
    "    return False\n",
    "\n"
   ]
  },
  {
   "cell_type": "code",
   "execution_count": 34,
   "metadata": {},
   "outputs": [
    {
     "data": {
      "text/plain": [
       "False"
      ]
     },
     "execution_count": 34,
     "metadata": {},
     "output_type": "execute_result"
    }
   ],
   "source": [
    "max_between_min(random_window)"
   ]
  },
  {
   "cell_type": "markdown",
   "metadata": {},
   "source": [
    "### Feature 4: Pattern Extrema Duration\n",
    "\n",
    "1. **Accurate Temporal Relationship Between Extremes**:\n",
    "   The duration between the minima and maxima within a potential Double Bottom is critical for understanding the timing of the pattern's formation. A shorter duration between the minima and maxima could suggest a tight price action, potentially indicating a quick reversal or confirmation of the pattern. On the other hand, a longer duration may imply a slower development but could still be indicative of a valid reversal. This feature provides a time window that refines the model's ability to distinguish between a valid Double Bottom and other similar patterns.\n",
    "\n",
    "2. **Supports the Continuity of the Price Action**:\n",
    "   Even though the Polyfit method handles noise, the duration of the pattern captures how the market moves between key points. A short duration between the local minimum and maximum might indicate a swift bounce after a fall, which is characteristic of some strong reversals. This feature helps the model understand how quickly or slowly the market can form a valid reversal, aligning with the characteristic behavior of Double Bottoms, where price typically drops, forms a bottom, rises, and revisits that bottom before reversing upwards.\n",
    "\n",
    "3. **Model’s Temporal Sensitivity to Pattern Development**:\n",
    "   This feature fine-tunes the model’s ability to learn from historical instances of Double Bottoms with similar timing structures. It helps ensure that the model recognizes patterns that form over reasonable periods as valid instances. By leveraging this feature, the model is equipped to make decisions about the timing and context of potential Double Bottoms in future data, which is essential for trading decisions or trend predictions.\n"
   ]
  },
  {
   "cell_type": "code",
   "execution_count": 35,
   "metadata": {},
   "outputs": [],
   "source": [
    "def pattern_extrema_duration(data: pd.DataFrame) -> float:\n",
    "    \"\"\"Calculate the duration between the potential \n",
    "    minima and maxima of a Double Bottom pattern.\n",
    "\n",
    "    Args:\n",
    "        data (pd.DataFrame): A DataFrame containing OHLC data.\n",
    "\n",
    "    Returns:\n",
    "        float: The duration (in days, relative to the \n",
    "        window length) between the closest local minimum \n",
    "        and local maximum forming the potential pattern.\n",
    "    \"\"\"\n",
    "    # Get the indices of the closest local minimum \n",
    "    # and maximum that form the potential Double Bottom \n",
    "    # pattern\n",
    "    min_index = data_scaled.loc[\n",
    "        local_min].sort_values().iloc[0:1].index\n",
    "    max_index = data_scaled.loc[\n",
    "        local_max].sort_values().iloc[0:1].index\n",
    "\n",
    "    # Calculate the duration in days between the \n",
    "    # local minimum and maximum indices, normalized \n",
    "    # by the length of the data\n",
    "    days_between = abs(\n",
    "        max_index - min_index\n",
    "        ) / len(data)\n",
    "\n",
    "    return days_between.values[0]\n"
   ]
  },
  {
   "cell_type": "code",
   "execution_count": 36,
   "metadata": {},
   "outputs": [
    {
     "data": {
      "text/plain": [
       "np.float64(0.6333333333333333)"
      ]
     },
     "execution_count": 36,
     "metadata": {},
     "output_type": "execute_result"
    }
   ],
   "source": [
    "pattern_extrema_duration(random_window)"
   ]
  },
  {
   "cell_type": "markdown",
   "metadata": {},
   "source": [
    "### Feature 5: Minima Deviation\n",
    "\n",
    "The standard deviation of the y-values at local minima can be a key indicator for identifying the likelihood of a double bottom pattern because:\n",
    "\n",
    "1. **Consistency of the Low Points**:\n",
    "   A low standard deviation suggests that the minima are close in value, indicating a greater likelihood that the lows are aligned. This is a critical characteristic of a double bottom pattern where the two troughs are expected to be at similar levels.\n",
    "\n",
    "2. **Noise Reduction and Relevance**:\n",
    "   High variability in the y-values of minima could imply erratic price behavior or a lack of clear structure in the local lows, which is less likely to form a recognizable double bottom pattern.\n",
    "\n",
    "3. **Alignment and Pattern Validity**:\n",
    "   When minima values are tightly clustered, it supports the hypothesis that the price reached similar levels during the two dips, reinforcing the validity of the potential pattern."
   ]
  },
  {
   "cell_type": "code",
   "execution_count": 42,
   "metadata": {},
   "outputs": [],
   "source": [
    "def minima_deviation(data: pd.DataFrame) -> float:\n",
    "    \"\"\"\n",
    "    Computes the standard deviation of the y-values (scaled) \n",
    "    corresponding to the local minima within the data.\n",
    "\n",
    "    Args:\n",
    "        data (pd.DataFrame): A DataFrame containing OHLC data.\n",
    "    Returns:\n",
    "        float: Standard deviation of the y-values at the\n",
    "        identified local minima.\n",
    "    \"\"\"\n",
    "    # Return standard deviation of the scaled values at \n",
    "    # the local minima\n",
    "    return data_scaled.loc[local_min].std()"
   ]
  },
  {
   "cell_type": "code",
   "execution_count": 43,
   "metadata": {},
   "outputs": [
    {
     "data": {
      "text/plain": [
       "np.float64(0.27526812310914717)"
      ]
     },
     "execution_count": 43,
     "metadata": {},
     "output_type": "execute_result"
    }
   ],
   "source": [
    "minima_deviation(random_window)"
   ]
  },
  {
   "cell_type": "markdown",
   "metadata": {},
   "source": [
    "### Feature 6: Minima Mean\n",
    "\n",
    "The mean value of the two smallest local minima is crucial for determining the potential for a double bottom pattern. Here's why:\n",
    "\n",
    "1. **Consistency of Lows**:\n",
    "A key characteristic of a double bottom pattern is that the two troughs are relatively close in value, forming a consistent support level. The mean of these two minima provides a measure of this consistency.\n",
    "\n",
    "2. **Validation of Similar Depth**:\n",
    "If the mean value is within an acceptable range, it suggests that the two minima are at a similar price level, which strengthens the case for a double bottom."
   ]
  },
  {
   "cell_type": "code",
   "execution_count": 44,
   "metadata": {},
   "outputs": [],
   "source": [
    "def minima_mean(data: pd.DataFrame) -> float:\n",
    "    \"\"\"\n",
    "    Computes the mean of the scaled values at the two \n",
    "    smallest local minima.\n",
    "\n",
    "    Args:\n",
    "        data (pd.DataFrame): A DataFrame containing OHLC data.\n",
    "\n",
    "    Returns:\n",
    "        float: Mean of the scaled values at the two \n",
    "        smallest local minima.\n",
    "    \"\"\"\n",
    "    \n",
    "    # Return the mean of the two smallest local minima \n",
    "    return data_scaled.loc[\n",
    "        local_min\n",
    "        ].sort_values().iloc[0:2].mean()"
   ]
  },
  {
   "cell_type": "code",
   "execution_count": 45,
   "metadata": {},
   "outputs": [
    {
     "data": {
      "text/plain": [
       "np.float64(0.19464395649497135)"
      ]
     },
     "execution_count": 45,
     "metadata": {},
     "output_type": "execute_result"
    }
   ],
   "source": [
    "minima_mean(random_window)"
   ]
  }
 ],
 "metadata": {
  "kernelspec": {
   "display_name": "double-bottom-detection-ml",
   "language": "python",
   "name": "python3"
  },
  "language_info": {
   "codemirror_mode": {
    "name": "ipython",
    "version": 3
   },
   "file_extension": ".py",
   "mimetype": "text/x-python",
   "name": "python",
   "nbconvert_exporter": "python",
   "pygments_lexer": "ipython3",
   "version": "3.9.20"
  }
 },
 "nbformat": 4,
 "nbformat_minor": 2
}
