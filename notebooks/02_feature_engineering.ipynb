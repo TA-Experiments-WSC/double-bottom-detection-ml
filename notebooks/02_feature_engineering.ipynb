{
 "cells": [
  {
   "cell_type": "markdown",
   "metadata": {},
   "source": [
    "# 02.- Feature Engineering"
   ]
  },
  {
   "cell_type": "code",
   "execution_count": 64,
   "metadata": {},
   "outputs": [],
   "source": [
    "import pandas as pd\n",
    "import numpy as np\n",
    "import pickle as pkl\n",
    "from sklearn import preprocessing\n",
    "\n",
    "from utils.plotting import candlestick_plot, local_maxima_minima_plot"
   ]
  },
  {
   "cell_type": "markdown",
   "metadata": {},
   "source": [
    "## Raw Data Loading"
   ]
  },
  {
   "cell_type": "code",
   "execution_count": null,
   "metadata": {},
   "outputs": [
    {
     "data": {
      "text/html": [
       "<div>\n",
       "<style scoped>\n",
       "    .dataframe tbody tr th:only-of-type {\n",
       "        vertical-align: middle;\n",
       "    }\n",
       "\n",
       "    .dataframe tbody tr th {\n",
       "        vertical-align: top;\n",
       "    }\n",
       "\n",
       "    .dataframe thead th {\n",
       "        text-align: right;\n",
       "    }\n",
       "</style>\n",
       "<table border=\"1\" class=\"dataframe\">\n",
       "  <thead>\n",
       "    <tr style=\"text-align: right;\">\n",
       "      <th></th>\n",
       "      <th>close</th>\n",
       "      <th>high</th>\n",
       "      <th>low</th>\n",
       "      <th>open</th>\n",
       "      <th>vol</th>\n",
       "    </tr>\n",
       "  </thead>\n",
       "  <tbody>\n",
       "    <tr>\n",
       "      <th>2000-01-03</th>\n",
       "      <td>11610.0</td>\n",
       "      <td>11881.8</td>\n",
       "      <td>11574.4</td>\n",
       "      <td>11846.6</td>\n",
       "      <td>60107000.0</td>\n",
       "    </tr>\n",
       "    <tr>\n",
       "      <th>2000-01-04</th>\n",
       "      <td>11206.6</td>\n",
       "      <td>11530.0</td>\n",
       "      <td>11159.8</td>\n",
       "      <td>11499.5</td>\n",
       "      <td>62539000.0</td>\n",
       "    </tr>\n",
       "    <tr>\n",
       "      <th>2000-01-05</th>\n",
       "      <td>10863.1</td>\n",
       "      <td>11068.1</td>\n",
       "      <td>10824.9</td>\n",
       "      <td>11206.6</td>\n",
       "      <td>68153000.0</td>\n",
       "    </tr>\n",
       "    <tr>\n",
       "      <th>2000-01-07</th>\n",
       "      <td>11102.4</td>\n",
       "      <td>11137.9</td>\n",
       "      <td>10882.7</td>\n",
       "      <td>10963.4</td>\n",
       "      <td>144207000.0</td>\n",
       "    </tr>\n",
       "    <tr>\n",
       "      <th>2000-01-10</th>\n",
       "      <td>11173.3</td>\n",
       "      <td>11364.3</td>\n",
       "      <td>11120.6</td>\n",
       "      <td>11363.8</td>\n",
       "      <td>133817000.0</td>\n",
       "    </tr>\n",
       "  </tbody>\n",
       "</table>\n",
       "</div>"
      ],
      "text/plain": [
       "              close     high      low     open          vol\n",
       "2000-01-03  11610.0  11881.8  11574.4  11846.6   60107000.0\n",
       "2000-01-04  11206.6  11530.0  11159.8  11499.5   62539000.0\n",
       "2000-01-05  10863.1  11068.1  10824.9  11206.6   68153000.0\n",
       "2000-01-07  11102.4  11137.9  10882.7  10963.4  144207000.0\n",
       "2000-01-10  11173.3  11364.3  11120.6  11363.8  133817000.0"
      ]
     },
     "execution_count": 37,
     "metadata": {},
     "output_type": "execute_result"
    }
   ],
   "source": [
    "# Open the pickle file containing raw benchmark data.\n",
    "with open('../data/raw/benchmark_data.pkl', 'rb') as handle:\n",
    "    bm = pkl.load(handle)\n",
    "\n",
    "data = bm['ibex']\n",
    "data.head()"
   ]
  },
  {
   "cell_type": "code",
   "execution_count": 68,
   "metadata": {},
   "outputs": [
    {
     "data": {
      "application/vnd.jupyter.widget-view+json": {
       "model_id": "2e3d8aaa6d704b63a0aaa394fa25c208",
       "version_major": 2,
       "version_minor": 0
      },
      "text/plain": [
       "FigureWidget({\n",
       "    'data': [{'close': [9439.9, 9500.7, 9399.4, 9561.5, 9601.8, 9530.7, 9516.8,\n",
       "                        9607.3, 9606.8, 9444.0, 9522.5, 9476.6, 9363.3, 9018.7,\n",
       "                        9047.9, 9021.5, 8920.9, 8925.2, 8964.3, 8792.7, 8787.6,\n",
       "                        8855.9, 8878.4, 9073.3, 9015.9, 8885.0, 8787.6, 8501.9,\n",
       "                        8526.2, 8465.1, 8266.1, 8166.7, 8303.9, 8296.1, 8372.7,\n",
       "                        8210.1, 8354.2, 8304.1, 8378.9, 8373.8, 8153.5, 8231.0,\n",
       "                        8217.0, 8417.9, 8480.0, 8557.3, 8608.7, 8564.7, 8636.2,\n",
       "                        8567.7],\n",
       "              'high': [9526.3, 9514.5, 9498.9, 9561.5, 9601.8, 9637.1, 9600.5,\n",
       "                       9663.9, 9657.6, 9616.6, 9538.5, 9496.9, 9481.8, 9307.7,\n",
       "                       9105.4, 9038.8, 9086.7, 9051.2, 9026.3, 8956.2, 8890.7,\n",
       "                       8895.0, 8913.1, 9084.0, 9104.9, 8994.2, 8893.7, 8738.8,\n",
       "                       8577.1, 8648.9, 8370.5, 8424.6, 8313.8, 8349.7, 8387.6,\n",
       "                       8403.6, 8354.2, 8324.5, 8463.7, 8401.7, 8360.6, 8286.1,\n",
       "                       8313.9, 8451.9, 8480.0, 8608.2, 8684.9, 8648.1, 8669.7,\n",
       "                       8624.7],\n",
       "              'low': [9426.7, 9370.6, 9374.3, 9441.8, 9489.5, 9516.9, 9485.6,\n",
       "                      9570.6, 9545.8, 9432.1, 9455.2, 9443.4, 9266.1, 9007.4,\n",
       "                      9008.7, 8862.8, 8900.9, 8855.9, 8867.9, 8758.4, 8766.1,\n",
       "                      8634.1, 8774.8, 8827.7, 8954.7, 8850.9, 8761.5, 8456.4,\n",
       "                      8344.6, 8448.6, 8228.9, 8074.5, 8118.7, 8217.2, 8220.6,\n",
       "                      8148.6, 8177.6, 8237.2, 8248.3, 8295.1, 8129.6, 8157.5,\n",
       "                      8152.7, 8251.8, 8313.3, 8462.8, 8482.9, 8558.6, 8555.5,\n",
       "                      8489.1],\n",
       "              'open': [9472.0, 9424.5, 9497.0, 9446.0, 9578.5, 9620.3, 9536.9,\n",
       "                       9574.7, 9566.9, 9616.6, 9513.8, 9465.7, 9428.1, 9301.9,\n",
       "                       9051.3, 9038.8, 9086.3, 8954.2, 8913.9, 8955.0, 8827.6,\n",
       "                       8816.8, 8913.0, 8849.5, 9104.9, 8963.0, 8808.1, 8731.6,\n",
       "                       8542.5, 8550.6, 8332.5, 8399.2, 8270.7, 8311.2, 8236.6,\n",
       "                       8402.3, 8220.5, 8283.5, 8270.5, 8331.8, 8333.9, 8207.2,\n",
       "                       8259.2, 8255.9, 8389.5, 8519.9, 8494.3, 8607.2, 8556.9,\n",
       "                       8605.6],\n",
       "              'type': 'candlestick',\n",
       "              'uid': 'd0df44b2-bf52-475c-9e26-e608096eff8c',\n",
       "              'x': [2001-05-30 00:00:00, 2001-05-31 00:00:00, 2001-06-01 00:00:00,\n",
       "                    2001-06-04 00:00:00, 2001-06-05 00:00:00, 2001-06-06 00:00:00,\n",
       "                    2001-06-07 00:00:00, 2001-06-08 00:00:00, 2001-06-11 00:00:00,\n",
       "                    2001-06-12 00:00:00, 2001-06-13 00:00:00, 2001-06-14 00:00:00,\n",
       "                    2001-06-15 00:00:00, 2001-06-18 00:00:00, 2001-06-19 00:00:00,\n",
       "                    2001-06-20 00:00:00, 2001-06-21 00:00:00, 2001-06-22 00:00:00,\n",
       "                    2001-06-25 00:00:00, 2001-06-26 00:00:00, 2001-06-27 00:00:00,\n",
       "                    2001-06-28 00:00:00, 2001-06-29 00:00:00, 2001-07-02 00:00:00,\n",
       "                    2001-07-03 00:00:00, 2001-07-04 00:00:00, 2001-07-05 00:00:00,\n",
       "                    2001-07-06 00:00:00, 2001-07-09 00:00:00, 2001-07-10 00:00:00,\n",
       "                    2001-07-11 00:00:00, 2001-07-12 00:00:00, 2001-07-13 00:00:00,\n",
       "                    2001-07-16 00:00:00, 2001-07-17 00:00:00, 2001-07-18 00:00:00,\n",
       "                    2001-07-19 00:00:00, 2001-07-20 00:00:00, 2001-07-23 00:00:00,\n",
       "                    2001-07-24 00:00:00, 2001-07-25 00:00:00, 2001-07-26 00:00:00,\n",
       "                    2001-07-27 00:00:00, 2001-07-30 00:00:00, 2001-07-31 00:00:00,\n",
       "                    2001-08-01 00:00:00, 2001-08-02 00:00:00, 2001-08-03 00:00:00,\n",
       "                    2001-08-06 00:00:00, 2001-08-07 00:00:00]}],\n",
       "    'layout': {'height': 500,\n",
       "               'template': '...',\n",
       "               'title': {'text': 'Candlestick Chart: Random Window'},\n",
       "               'xaxis': {'rangeslider': {'visible': False}, 'type': 'date'}}\n",
       "})"
      ]
     },
     "execution_count": 68,
     "metadata": {},
     "output_type": "execute_result"
    }
   ],
   "source": [
    "window_size = 50\n",
    "\n",
    "# Randomly select a starting index\n",
    "start_index = np.random.randint(0, len(data) - window_size + 1)\n",
    "\n",
    "# Select the consecutive window of rows\n",
    "random_window = data.iloc[start_index:start_index + window_size]\n",
    "candlestick_plot(random_window, 'Random Window')"
   ]
  },
  {
   "cell_type": "code",
   "execution_count": 40,
   "metadata": {},
   "outputs": [],
   "source": [
    "def local_min_max(data: pd.DataFrame) -> tuple[pd.Series,\n",
    "                                               np.ndarray,\n",
    "                                               np.ndarray]:\n",
    "    \"\"\"\n",
    "    Identifies local minima and maxima from the 'low' values\n",
    "    of a given time series using polynomial fitting.\n",
    "\n",
    "    Args:\n",
    "        data (pd.DataFrame): A DataFrame containing a 'low'\n",
    "        column that represents the lowest values (e.g., stock lows).\n",
    "\n",
    "    Returns:\n",
    "        tuple[pd.Series, np.ndarray, np.ndarray]: \n",
    "            - A Series of the normalized 'low' values.\n",
    "            - Indices of the local minima.\n",
    "            - Indices of the local maxima.\n",
    "    \"\"\"\n",
    "\n",
    "    # Normalize the 'low' values of the data using min-max scaling, \n",
    "    # bringing values into the range [0, 1].\n",
    "    data_scaled = pd.Series(\n",
    "        preprocessing.minmax_scale(data['low']),\n",
    "        index=data.index\n",
    "    ).reset_index(drop=True)\n",
    "    \n",
    "    # Prepare the data for polynomial fitting. 'x_data' are the \n",
    "    # indices and 'y_data' are the scaled 'low' values.\n",
    "    x_data = data_scaled.index.tolist()\n",
    "    y_data = data_scaled\n",
    "\n",
    "    # Create a smooth range for fitting\n",
    "    x = np.linspace(0, max(x_data), max(x_data) + 1)  \n",
    "\n",
    "    # Fit a 15th degree polynomial to the data. This degree captures \n",
    "    # local variations in the data.\n",
    "    pol = np.polyfit(x_data, y_data, 15)\n",
    "    # Evaluate the polynomial at the specified x values\n",
    "    y_pol = np.polyval(pol, x)\n",
    "\n",
    "    # Find local minima (where the second derivative changes \n",
    "    # sign from negative to positive)\n",
    "    local_min = (\n",
    "        np.diff(np.sign(np.diff(y_pol))) > 0\n",
    "        ).nonzero()[0] + 1\n",
    "\n",
    "    # Find local maxima (where the second derivative changes \n",
    "    # sign from positive to negative)\n",
    "    local_max = (\n",
    "        np.diff(np.sign(np.diff(y_pol))) < 0\n",
    "        ).nonzero()[0] + 1\n",
    "\n",
    "    # Return the normalized 'low' values, local minima, and \n",
    "    # local maxima\n",
    "    return data_scaled, local_min, local_max\n"
   ]
  },
  {
   "cell_type": "markdown",
   "metadata": {},
   "source": [
    "## Features Definition"
   ]
  },
  {
   "cell_type": "markdown",
   "metadata": {},
   "source": [
    "### Feature 1: Absolute Extrema Duration\n",
    "This feature could highlight relative compression or elongation of trends. For instance:\n",
    "\n",
    "1. **Rapid Changes**:\n",
    "   A small time difference could hint at erratic or impulsive market behavior, potentially filtering out broader, more gradual trends that might not fit a double-bottom scenario.\n",
    "\n",
    "2. **Structure of Support and Resistance**:\n",
    "   Longer time differences between the extremes could indicate a more stable consolidation, aligning with the characteristics of a well-formed double bottom, where the two lows and the interim peak occur over a longer timeframe.\n"
   ]
  },
  {
   "cell_type": "code",
   "execution_count": 41,
   "metadata": {},
   "outputs": [],
   "source": [
    "def absolute_extrema_duration(data: pd.DataFrame) -> float:\n",
    "    \"\"\"Calculate the number of days between the maximum \n",
    "    and minimum values in a time series.\n",
    "\n",
    "    Args:\n",
    "        data (pd.DataFrame): DataFrame containing OHLC data.\n",
    "\n",
    "    Returns:\n",
    "        float: Number of days between the highest and \n",
    "        lowest values divided by the window lengh.\n",
    "        \n",
    "        This normalization can make your model more robust \n",
    "        when handling different time windows or comparing \n",
    "        different patterns\n",
    "    \"\"\"\n",
    "    # Get the indices of the maximum and minimum \n",
    "    # values directly\n",
    "    max_index = data.index.get_loc(\n",
    "        data.high.idxmax().strftime(\"%Y-%m-%d\"))\n",
    "    min_index = data.index.get_loc(\n",
    "        data.low.idxmin().strftime(\"%Y-%m-%d\"))\n",
    "\n",
    "    # Calculate the difference in days directly \n",
    "    # and normalizes the result\n",
    "    duration = abs(\n",
    "        (max_index - min_index)\n",
    "        ) / len(data)\n",
    "    \n",
    "    return duration\n"
   ]
  },
  {
   "cell_type": "code",
   "execution_count": 42,
   "metadata": {},
   "outputs": [
    {
     "data": {
      "text/plain": [
       "0.5"
      ]
     },
     "execution_count": 42,
     "metadata": {},
     "output_type": "execute_result"
    }
   ],
   "source": [
    "absolute_extrema_duration(random_window)"
   ]
  },
  {
   "cell_type": "markdown",
   "metadata": {},
   "source": [
    "### Feature 2: Low Threshold Minima Count\n",
    "\n",
    "1. **Capturing Potential \"Bottoms\"**:\n",
    "   The double-bottom pattern is characterized by two distinct troughs. By counting local minima that fall below a threshold, this feature highlights regions where the price exhibits pronounced dips, which are critical to identifying the pattern.\n",
    "\n",
    "2. **Indicator of Significant Downward Movements**:\n",
    "   A higher count of minima below the threshold suggests strong downward pressures within the window, increasing the likelihood of the presence of one or more \"bottoms.\" This metric helps focus the analysis on windows with sufficient depth for the pattern to exist.\n",
    "\n",
    "3. **Normalization Across Windows**:\n",
    "   Dividing the count by the length of the data window ensures that the feature is scale-invariant and comparable across windows of different sizes. This is essential for ensuring that the feature is meaningful in varying contexts, regardless of the specific duration of the window.\n",
    "\n",
    "4. **Threshold as a Proxy for Pattern Shape**:\n",
    "   The chosen threshold (e.g., 0.20) is a proxy for the depth of price movements. Adjusting this value can help fine-tune the feature to be sensitive to the specific characteristics of double bottoms in the dataset being analyzed.\n"
   ]
  },
  {
   "cell_type": "code",
   "execution_count": 43,
   "metadata": {},
   "outputs": [],
   "source": [
    "def low_threshold_minima_count(data: pd.DataFrame) -> float:\n",
    "    \"\"\"\n",
    "    Calculate the proportion of local minima below a specified \n",
    "    threshold within a time window.\n",
    "\n",
    "    Args:\n",
    "        data (pd.DataFrame): DataFrame containing OHLC data.\n",
    "\n",
    "    Returns:\n",
    "        float: Proportion of local minima below the 0.20 \n",
    "        threshold relative to the data length.\n",
    "    \"\"\"\n",
    "    # Scale the 'low' column and find local minima\n",
    "    data_scaled, local_min, _ = local_min_max(data)\n",
    "    \n",
    "    # Extract the values of the local minima\n",
    "    local_min_values = data_scaled.loc[local_min]\n",
    "\n",
    "    # Count minima below the threshold and normalize \n",
    "    # by the data length\n",
    "    count = local_min_values.loc[\n",
    "        (local_min_values < 0.20)].count() / len(data)\n",
    "    \n",
    "    # Return the computed proportion\n",
    "    return count"
   ]
  },
  {
   "cell_type": "code",
   "execution_count": 44,
   "metadata": {},
   "outputs": [
    {
     "data": {
      "text/plain": [
       "np.float64(0.04)"
      ]
     },
     "execution_count": 44,
     "metadata": {},
     "output_type": "execute_result"
    }
   ],
   "source": [
    "low_threshold_minima_count(random_window)"
   ]
  },
  {
   "cell_type": "markdown",
   "metadata": {},
   "source": [
    "### Feature 3: Maxima Between Minima\n",
    "\n",
    "This feature is critical because it analyzes the relationship between two significant minima and the local maxima that might lie between them.\n",
    "\n",
    "1. **Pattern Recognition in Double Bottoms**: \n",
    "   The double-bottom pattern is characterized by two nearly equal lows (minima) separated by a peak (maximum). This feature captures the core structure of this pattern by checking if a maximum exists between two significant, low-valued minima.\n",
    "\n",
    "2. **Validation of Reversal Potential**:\n",
    "   By ensuring the minima are below a specified threshold (e.g., 0.20), the function confirms that these lows are significant enough to suggest potential market exhaustion. If a high lies between these lows, it indicates a potential reversal setup.\n",
    "\n",
    "3. **Highlighting Key Support and Resistance Levels**:\n",
    "   The relationship between the minima and maxima offers insights into market dynamics. The presence of a maximum between two significant lows suggests a potential neckline resistance, which is critical for validating the double-bottom breakout signal.\n",
    "\n",
    "4. **Temporal and Spatial Arrangement**:\n",
    "   This feature ensures that the minima and the intervening maximum occur in the correct sequence, an essential requirement for confirming the double-bottom shape.\n"
   ]
  },
  {
   "cell_type": "code",
   "execution_count": null,
   "metadata": {},
   "outputs": [],
   "source": [
    "def max_between_min(data: pd.DataFrame) -> bool:\n",
    "    \"\"\"\n",
    "    Determines if the first local maximum lies between \n",
    "    the two lowest minima below a specific threshold (0.20),\n",
    "    indicating potential double-bottom behavior.\n",
    "\n",
    "    Args:\n",
    "        data (pd.DataFrame): A DataFrame containing OHLC data.\n",
    "\n",
    "    Returns:\n",
    "        bool: True if the first local maximum is between \n",
    "        the two lowest minima below the threshold, \n",
    "        False otherwise.\n",
    "    \"\"\"\n",
    "    # Identify scaled data, local minima, and maxima\n",
    "    data_scaled, local_minima, local_maxima = local_min_max(data)\n",
    "\n",
    "    # Extract and sort the two lowest minima\n",
    "    lowest_minima = (\n",
    "        data_scaled.loc[local_minima]\n",
    "        .sort_values()\n",
    "        .iloc[:2]\n",
    "        .sort_index()\n",
    "    )\n",
    "\n",
    "    # Extract sorted maxima for comparison\n",
    "    sorted_maxima = data_scaled.loc[\n",
    "        local_maxima].sort_values()\n",
    "\n",
    "    # Check conditions: exactly two minima and both \n",
    "    # below the threshold\n",
    "    if (\n",
    "        len(lowest_minima) == 2 and \n",
    "        (lowest_minima.iloc[0] < 0.20) and \n",
    "        (lowest_minima.iloc[1] < 0.20)\n",
    "    ):\n",
    "        # Verify if the first local maximum is between \n",
    "        # the two minima\n",
    "        return any(\n",
    "            lowest_minima.index[0] < max_idx < lowest_minima.index[1]\n",
    "            for max_idx in sorted_maxima.index\n",
    "        )\n",
    "\n",
    "    # Return False if conditions are not met\n",
    "    return False\n",
    "\n"
   ]
  },
  {
   "cell_type": "code",
   "execution_count": null,
   "metadata": {},
   "outputs": [
    {
     "data": {
      "text/plain": [
       "True"
      ]
     },
     "execution_count": 75,
     "metadata": {},
     "output_type": "execute_result"
    }
   ],
   "source": [
    "max_between_min(random_window)"
   ]
  }
 ],
 "metadata": {
  "kernelspec": {
   "display_name": "double-bottom-detection-ml",
   "language": "python",
   "name": "python3"
  },
  "language_info": {
   "codemirror_mode": {
    "name": "ipython",
    "version": 3
   },
   "file_extension": ".py",
   "mimetype": "text/x-python",
   "name": "python",
   "nbconvert_exporter": "python",
   "pygments_lexer": "ipython3",
   "version": "3.9.20"
  }
 },
 "nbformat": 4,
 "nbformat_minor": 2
}
