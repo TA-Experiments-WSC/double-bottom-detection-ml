{
 "cells": [
  {
   "cell_type": "markdown",
   "metadata": {},
   "source": [
    "# Data Preparation"
   ]
  },
  {
   "cell_type": "code",
   "execution_count": 1,
   "metadata": {},
   "outputs": [],
   "source": [
    "import pandas as pd\n",
    "import numpy as np\n",
    "import pickle as pkl\n",
    "\n",
    "from utils.plotting import candlestick_plotting\n"
   ]
  },
  {
   "cell_type": "code",
   "execution_count": 2,
   "metadata": {},
   "outputs": [
    {
     "data": {
      "text/html": [
       "<div>\n",
       "<style scoped>\n",
       "    .dataframe tbody tr th:only-of-type {\n",
       "        vertical-align: middle;\n",
       "    }\n",
       "\n",
       "    .dataframe tbody tr th {\n",
       "        vertical-align: top;\n",
       "    }\n",
       "\n",
       "    .dataframe thead th {\n",
       "        text-align: right;\n",
       "    }\n",
       "</style>\n",
       "<table border=\"1\" class=\"dataframe\">\n",
       "  <thead>\n",
       "    <tr style=\"text-align: right;\">\n",
       "      <th></th>\n",
       "      <th>close</th>\n",
       "      <th>high</th>\n",
       "      <th>low</th>\n",
       "      <th>open</th>\n",
       "      <th>vol</th>\n",
       "    </tr>\n",
       "  </thead>\n",
       "  <tbody>\n",
       "    <tr>\n",
       "      <th>2000-01-03</th>\n",
       "      <td>11610.0</td>\n",
       "      <td>11881.8</td>\n",
       "      <td>11574.4</td>\n",
       "      <td>11846.6</td>\n",
       "      <td>60107000.0</td>\n",
       "    </tr>\n",
       "    <tr>\n",
       "      <th>2000-01-04</th>\n",
       "      <td>11206.6</td>\n",
       "      <td>11530.0</td>\n",
       "      <td>11159.8</td>\n",
       "      <td>11499.5</td>\n",
       "      <td>62539000.0</td>\n",
       "    </tr>\n",
       "    <tr>\n",
       "      <th>2000-01-05</th>\n",
       "      <td>10863.1</td>\n",
       "      <td>11068.1</td>\n",
       "      <td>10824.9</td>\n",
       "      <td>11206.6</td>\n",
       "      <td>68153000.0</td>\n",
       "    </tr>\n",
       "    <tr>\n",
       "      <th>2000-01-07</th>\n",
       "      <td>11102.4</td>\n",
       "      <td>11137.9</td>\n",
       "      <td>10882.7</td>\n",
       "      <td>10963.4</td>\n",
       "      <td>144207000.0</td>\n",
       "    </tr>\n",
       "    <tr>\n",
       "      <th>2000-01-10</th>\n",
       "      <td>11173.3</td>\n",
       "      <td>11364.3</td>\n",
       "      <td>11120.6</td>\n",
       "      <td>11363.8</td>\n",
       "      <td>133817000.0</td>\n",
       "    </tr>\n",
       "  </tbody>\n",
       "</table>\n",
       "</div>"
      ],
      "text/plain": [
       "              close     high      low     open          vol\n",
       "2000-01-03  11610.0  11881.8  11574.4  11846.6   60107000.0\n",
       "2000-01-04  11206.6  11530.0  11159.8  11499.5   62539000.0\n",
       "2000-01-05  10863.1  11068.1  10824.9  11206.6   68153000.0\n",
       "2000-01-07  11102.4  11137.9  10882.7  10963.4  144207000.0\n",
       "2000-01-10  11173.3  11364.3  11120.6  11363.8  133817000.0"
      ]
     },
     "execution_count": 2,
     "metadata": {},
     "output_type": "execute_result"
    }
   ],
   "source": [
    "with open('../data/raw/benchmark_data.pkl', 'rb') as handle:\n",
    "    bm = pkl.load(handle)\n",
    "\n",
    "data = bm['ibex']\n",
    "data.head()"
   ]
  },
  {
   "cell_type": "code",
   "execution_count": 3,
   "metadata": {},
   "outputs": [
    {
     "data": {
      "application/vnd.jupyter.widget-view+json": {
       "model_id": "ea728fe43aa04e90bca264347149247d",
       "version_major": 2,
       "version_minor": 0
      },
      "text/plain": [
       "FigureWidget({\n",
       "    'data': [{'close': [11610.0, 11206.6, 10863.1, ..., 9169.2, 9236.1, 9294.1],\n",
       "              'high': [11881.8, 11530.0, 11068.1, ..., 9246.2, 9261.4, 9302.2],\n",
       "              'low': [11574.4, 11159.8, 10824.9, ..., 9136.7, 9185.7, 9248.1],\n",
       "              'open': [11846.6, 11499.5, 11206.6, ..., 9169.2, 9186.7, 9284.2],\n",
       "              'type': 'candlestick',\n",
       "              'uid': '15d90236-ed57-4d6e-a7af-db33e6085acd',\n",
       "              'x': [2000-01-03 00:00:00, 2000-01-04 00:00:00, 2000-01-05 00:00:00,\n",
       "                    ..., 2019-06-06 00:00:00, 2019-06-07 00:00:00, 2019-06-10\n",
       "                    00:00:00]}],\n",
       "    'layout': {'height': 500,\n",
       "               'template': '...',\n",
       "               'title': {'text': 'Candlestick Chart'},\n",
       "               'xaxis': {'rangeslider': {'visible': False}, 'type': 'date'}}\n",
       "})"
      ]
     },
     "execution_count": 3,
     "metadata": {},
     "output_type": "execute_result"
    }
   ],
   "source": [
    "candlestick_plotting(data)"
   ]
  }
 ],
 "metadata": {
  "kernelspec": {
   "display_name": "double-bottom-detection-ml",
   "language": "python",
   "name": "python3"
  },
  "language_info": {
   "codemirror_mode": {
    "name": "ipython",
    "version": 3
   },
   "file_extension": ".py",
   "mimetype": "text/x-python",
   "name": "python",
   "nbconvert_exporter": "python",
   "pygments_lexer": "ipython3",
   "version": "3.9.20"
  }
 },
 "nbformat": 4,
 "nbformat_minor": 2
}
